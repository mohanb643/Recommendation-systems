{
 "cells": [
  {
   "cell_type": "markdown",
   "id": "9a26d885-63dd-46ad-ae55-0531e16a6b75",
   "metadata": {},
   "source": [
    "## Data Preprocessing"
   ]
  },
  {
   "cell_type": "code",
   "execution_count": 4,
   "id": "bfe70d05-6fa5-444c-8746-a4930f248eca",
   "metadata": {},
   "outputs": [],
   "source": [
    "import pandas as pd\n",
    "import numpy as np\n",
    "from sklearn.preprocessing import MinMaxScaler\n",
    "from sklearn.feature_extraction.text import TfidfVectorizer\n",
    "from sklearn.metrics.pairwise import linear_kernel\n",
    "from sklearn.model_selection import train_test_split\n",
    "from sklearn.metrics import precision_score, recall_score, f1_score"
   ]
  },
  {
   "cell_type": "code",
   "execution_count": 5,
   "id": "011e8f3f-4618-4c19-98a8-e04ecba106d4",
   "metadata": {},
   "outputs": [],
   "source": [
    "df = pd.read_csv('anime.csv')"
   ]
  },
  {
   "cell_type": "code",
   "execution_count": 6,
   "id": "aeb06af1-8865-4141-a415-3fc5033a3031",
   "metadata": {},
   "outputs": [
    {
     "data": {
      "text/html": [
       "<div>\n",
       "<style scoped>\n",
       "    .dataframe tbody tr th:only-of-type {\n",
       "        vertical-align: middle;\n",
       "    }\n",
       "\n",
       "    .dataframe tbody tr th {\n",
       "        vertical-align: top;\n",
       "    }\n",
       "\n",
       "    .dataframe thead th {\n",
       "        text-align: right;\n",
       "    }\n",
       "</style>\n",
       "<table border=\"1\" class=\"dataframe\">\n",
       "  <thead>\n",
       "    <tr style=\"text-align: right;\">\n",
       "      <th></th>\n",
       "      <th>anime_id</th>\n",
       "      <th>name</th>\n",
       "      <th>genre</th>\n",
       "      <th>type</th>\n",
       "      <th>episodes</th>\n",
       "      <th>rating</th>\n",
       "      <th>members</th>\n",
       "    </tr>\n",
       "  </thead>\n",
       "  <tbody>\n",
       "    <tr>\n",
       "      <th>0</th>\n",
       "      <td>32281</td>\n",
       "      <td>Kimi no Na wa.</td>\n",
       "      <td>Drama, Romance, School, Supernatural</td>\n",
       "      <td>Movie</td>\n",
       "      <td>1</td>\n",
       "      <td>9.37</td>\n",
       "      <td>200630</td>\n",
       "    </tr>\n",
       "    <tr>\n",
       "      <th>1</th>\n",
       "      <td>5114</td>\n",
       "      <td>Fullmetal Alchemist: Brotherhood</td>\n",
       "      <td>Action, Adventure, Drama, Fantasy, Magic, Mili...</td>\n",
       "      <td>TV</td>\n",
       "      <td>64</td>\n",
       "      <td>9.26</td>\n",
       "      <td>793665</td>\n",
       "    </tr>\n",
       "    <tr>\n",
       "      <th>2</th>\n",
       "      <td>28977</td>\n",
       "      <td>Gintama°</td>\n",
       "      <td>Action, Comedy, Historical, Parody, Samurai, S...</td>\n",
       "      <td>TV</td>\n",
       "      <td>51</td>\n",
       "      <td>9.25</td>\n",
       "      <td>114262</td>\n",
       "    </tr>\n",
       "    <tr>\n",
       "      <th>3</th>\n",
       "      <td>9253</td>\n",
       "      <td>Steins;Gate</td>\n",
       "      <td>Sci-Fi, Thriller</td>\n",
       "      <td>TV</td>\n",
       "      <td>24</td>\n",
       "      <td>9.17</td>\n",
       "      <td>673572</td>\n",
       "    </tr>\n",
       "    <tr>\n",
       "      <th>4</th>\n",
       "      <td>9969</td>\n",
       "      <td>Gintama&amp;#039;</td>\n",
       "      <td>Action, Comedy, Historical, Parody, Samurai, S...</td>\n",
       "      <td>TV</td>\n",
       "      <td>51</td>\n",
       "      <td>9.16</td>\n",
       "      <td>151266</td>\n",
       "    </tr>\n",
       "  </tbody>\n",
       "</table>\n",
       "</div>"
      ],
      "text/plain": [
       "   anime_id                              name  \\\n",
       "0     32281                    Kimi no Na wa.   \n",
       "1      5114  Fullmetal Alchemist: Brotherhood   \n",
       "2     28977                          Gintama°   \n",
       "3      9253                       Steins;Gate   \n",
       "4      9969                     Gintama&#039;   \n",
       "\n",
       "                                               genre   type episodes  rating  \\\n",
       "0               Drama, Romance, School, Supernatural  Movie        1    9.37   \n",
       "1  Action, Adventure, Drama, Fantasy, Magic, Mili...     TV       64    9.26   \n",
       "2  Action, Comedy, Historical, Parody, Samurai, S...     TV       51    9.25   \n",
       "3                                   Sci-Fi, Thriller     TV       24    9.17   \n",
       "4  Action, Comedy, Historical, Parody, Samurai, S...     TV       51    9.16   \n",
       "\n",
       "   members  \n",
       "0   200630  \n",
       "1   793665  \n",
       "2   114262  \n",
       "3   673572  \n",
       "4   151266  "
      ]
     },
     "execution_count": 6,
     "metadata": {},
     "output_type": "execute_result"
    }
   ],
   "source": [
    "df.head()"
   ]
  },
  {
   "cell_type": "code",
   "execution_count": 7,
   "id": "68fc5b0c-249b-428d-a58f-74ebef6a4890",
   "metadata": {},
   "outputs": [
    {
     "data": {
      "text/plain": [
       "anime_id      0\n",
       "name          0\n",
       "genre        62\n",
       "type         25\n",
       "episodes      0\n",
       "rating      230\n",
       "members       0\n",
       "dtype: int64"
      ]
     },
     "execution_count": 7,
     "metadata": {},
     "output_type": "execute_result"
    }
   ],
   "source": [
    "df.isnull().sum()"
   ]
  },
  {
   "cell_type": "code",
   "execution_count": 8,
   "id": "84249337-ee38-468a-875a-c68641f12731",
   "metadata": {},
   "outputs": [],
   "source": [
    "df['genre'] = df['genre'].fillna('Unknown')"
   ]
  },
  {
   "cell_type": "code",
   "execution_count": 9,
   "id": "a5bc1cbd-c577-41ff-9dcb-7f5a3684f9b2",
   "metadata": {},
   "outputs": [],
   "source": [
    "df['rating'] = df['rating'].fillna(df['rating'].median())"
   ]
  },
  {
   "cell_type": "code",
   "execution_count": 10,
   "id": "ad631220-076a-4716-a645-110db509b986",
   "metadata": {},
   "outputs": [],
   "source": [
    "df['episodes'] = pd.to_numeric(df['episodes'], errors='coerce')\n",
    "df['episodes'] = df['episodes'].fillna(df['episodes'].median())"
   ]
  },
  {
   "cell_type": "code",
   "execution_count": 11,
   "id": "0f598907-6e7c-4979-a435-b3bfb7938302",
   "metadata": {},
   "outputs": [
    {
     "name": "stdout",
     "output_type": "stream",
     "text": [
      "\n",
      "Missing Values after Cleaning:\n",
      "anime_id     0\n",
      "name         0\n",
      "genre        0\n",
      "type        25\n",
      "episodes     0\n",
      "rating       0\n",
      "members      0\n",
      "dtype: int64\n"
     ]
    }
   ],
   "source": [
    "print(\"\\nMissing Values after Cleaning:\")\n",
    "print(df.isnull().sum())"
   ]
  },
  {
   "cell_type": "markdown",
   "id": "6e8ecf9c-d619-4ecd-ac1a-2dfe1b0bd8d7",
   "metadata": {},
   "source": [
    "## Feature Extraction"
   ]
  },
  {
   "cell_type": "code",
   "execution_count": 12,
   "id": "26a898e3-5428-41e4-9187-86294b73cb5f",
   "metadata": {},
   "outputs": [],
   "source": [
    "tfidf_vectorizer = TfidfVectorizer(stop_words='english')\n",
    "tfidf_matrix = tfidf_vectorizer.fit_transform(df['genre'])"
   ]
  },
  {
   "cell_type": "code",
   "execution_count": 13,
   "id": "dca25f89-b578-410e-9680-bb0d087f31bc",
   "metadata": {},
   "outputs": [],
   "source": [
    "scaler = MinMaxScaler()\n",
    "numerical_features = df[['rating', 'members']]\n",
    "scaled_numerical_features = scaler.fit_transform(numerical_features)"
   ]
  },
  {
   "cell_type": "code",
   "execution_count": 14,
   "id": "686cf5bf-899b-436a-9233-8ee178a8eaa7",
   "metadata": {},
   "outputs": [],
   "source": [
    "from scipy.sparse import hstack\n",
    "final_features = hstack([tfidf_matrix, scaled_numerical_features])"
   ]
  },
  {
   "cell_type": "markdown",
   "id": "3d7021c6-616b-4e79-906b-a722576652f8",
   "metadata": {},
   "source": [
    "## Recommendation System"
   ]
  },
  {
   "cell_type": "code",
   "execution_count": 30,
   "id": "b5c8f096-a50c-458c-897f-277283edfacd",
   "metadata": {},
   "outputs": [],
   "source": [
    "from sklearn.metrics.pairwise import linear_kernel\n",
    "cosine_sim = linear_kernel(final_features, final_features)"
   ]
  },
  {
   "cell_type": "code",
   "execution_count": 34,
   "id": "8d9370b6-fa29-4301-b403-33d3793d23ee",
   "metadata": {},
   "outputs": [],
   "source": [
    "def get_recommendations(title, cosine_sim_matrix=cosine_sim, data=df, top_n=10):\n",
    "    \"\"\"\n",
    "    Given an anime title, this function returns a list of the top N most similar anime\n",
    "    based on the pre-computed cosine similarity matrix.\n",
    "\n",
    "    Parameters:\n",
    "    - title (str): The name of the target anime.\n",
    "    - cosine_sim_matrix (np.array): The pre-computed cosine similarity matrix.\n",
    "    - data (pd.DataFrame): The original DataFrame.\n",
    "    - top_n (int): The number of recommendations to return.\n",
    "\n",
    "    Returns:\n",
    "    - pd.DataFrame: A DataFrame containing the recommended anime, their ratings,\n",
    "                    and similarity scores.\n",
    "    \"\"\"\n",
    "    try:\n",
    "        idx = data[data['name'] == title].index[0]\n",
    "    except IndexError:\n",
    "        return \"Anime not found in the dataset.\"\n",
    "\n",
    "    sim_scores = list(enumerate(cosine_sim_matrix[idx]))\n",
    "\n",
    "    sim_scores = sorted(sim_scores, key=lambda x: x[1], reverse=True)\n",
    "\n",
    "    sim_scores = sim_scores[1:top_n+1]\n",
    "\n",
    "    anime_indices = [i[0] for i in sim_scores]\n",
    "\n",
    "    similarity_scores = [i[1] for i in sim_scores]\n",
    "\n",
    "    recommendations = data.iloc[anime_indices][['name', 'genre', 'rating']]\n",
    "    recommendations['similarity_score'] = similarity_scores\n",
    "    \n",
    "    return recommendations"
   ]
  },
  {
   "cell_type": "code",
   "execution_count": 35,
   "id": "97773ebb-965f-4676-ace5-12f1f7886f9c",
   "metadata": {},
   "outputs": [
    {
     "name": "stdout",
     "output_type": "stream",
     "text": [
      "\n",
      "Recommendations for 'Kimi no Na wa.':\n",
      "                                       name  \\\n",
      "159                            Angel Beats!   \n",
      "223                                 Clannad   \n",
      "1111  Aura: Maryuuin Kouga Saigo no Tatakai   \n",
      "986                       Shakugan no Shana   \n",
      "208           Kokoro ga Sakebitagatterunda.   \n",
      "\n",
      "                                                  genre  rating  \\\n",
      "159         Action, Comedy, Drama, School, Supernatural    8.39   \n",
      "223   Comedy, Drama, Romance, School, Slice of Life,...    8.30   \n",
      "1111       Comedy, Drama, Romance, School, Supernatural    7.67   \n",
      "986   Action, Drama, Fantasy, Romance, School, Super...    7.74   \n",
      "208                              Drama, Romance, School    8.32   \n",
      "\n",
      "      similarity_score  \n",
      "159           1.643629  \n",
      "223           1.628530  \n",
      "1111          1.625539  \n",
      "986           1.600383  \n",
      "208           1.588398  \n",
      "\n",
      "Recommendations for 'Fullmetal Alchemist: Brotherhood':\n",
      "                                               name  \\\n",
      "200                             Fullmetal Alchemist   \n",
      "288                                      Fairy Tail   \n",
      "86                               Shingeki no Kyojin   \n",
      "268                    Magi: The Labyrinth of Magic   \n",
      "101                      Magi: The Kingdom of Magic   \n",
      "402       Fullmetal Alchemist: Brotherhood Specials   \n",
      "804                                Sword Art Online   \n",
      "1558  Fullmetal Alchemist: The Sacred Star of Milos   \n",
      "255                               Fairy Tail (2014)   \n",
      "440                                      Soul Eater   \n",
      "\n",
      "                                                  genre  rating  \\\n",
      "200   Action, Adventure, Comedy, Drama, Fantasy, Mag...    8.33   \n",
      "288   Action, Adventure, Comedy, Fantasy, Magic, Sho...    8.22   \n",
      "86         Action, Drama, Fantasy, Shounen, Super Power    8.54   \n",
      "268          Action, Adventure, Fantasy, Magic, Shounen    8.24   \n",
      "101          Action, Adventure, Fantasy, Magic, Shounen    8.50   \n",
      "402   Adventure, Drama, Fantasy, Magic, Military, Sh...    8.11   \n",
      "804           Action, Adventure, Fantasy, Game, Romance    7.83   \n",
      "1558  Action, Adventure, Comedy, Drama, Fantasy, Mag...    7.50   \n",
      "255   Action, Adventure, Comedy, Fantasy, Magic, Sho...    8.25   \n",
      "440   Action, Adventure, Comedy, Fantasy, Shounen, S...    8.08   \n",
      "\n",
      "      similarity_score  \n",
      "200           2.165263  \n",
      "288           1.918858  \n",
      "86            1.879963  \n",
      "268           1.748124  \n",
      "101           1.720601  \n",
      "402           1.712500  \n",
      "804           1.683649  \n",
      "1558          1.678855  \n",
      "255           1.667745  \n",
      "440           1.664867  \n",
      "\n",
      "Recommendations for 'Naruto':\n",
      "                   name                                              genre  \\\n",
      "615  Naruto: Shippuuden  Action, Comedy, Martial Arts, Shounen, Super P...   \n",
      "86   Shingeki no Kyojin       Action, Drama, Fantasy, Shounen, Super Power   \n",
      "206       Dragon Ball Z  Action, Adventure, Comedy, Fantasy, Martial Ar...   \n",
      "346         Dragon Ball  Adventure, Comedy, Fantasy, Martial Arts, Shou...   \n",
      "582              Bleach  Action, Comedy, Shounen, Super Power, Supernat...   \n",
      "\n",
      "     rating  similarity_score  \n",
      "615    7.94          1.909462  \n",
      "86     8.54          1.827086  \n",
      "206    8.32          1.774968  \n",
      "346    8.16          1.689375  \n",
      "582    7.95          1.636753  \n"
     ]
    }
   ],
   "source": [
    "print(\"\\nRecommendations for 'Kimi no Na wa.':\")\n",
    "print(get_recommendations('Kimi no Na wa.', top_n=5))\n",
    "\n",
    "print(\"\\nRecommendations for 'Fullmetal Alchemist: Brotherhood':\")\n",
    "print(get_recommendations('Fullmetal Alchemist: Brotherhood', top_n=10))\n",
    "\n",
    "print(\"\\nRecommendations for 'Naruto':\")\n",
    "print(get_recommendations('Naruto', top_n=5))"
   ]
  },
  {
   "cell_type": "markdown",
   "id": "751cb21a-1734-4354-997e-9d07ae4ed4a0",
   "metadata": {},
   "source": [
    "## Evaluation"
   ]
  },
  {
   "cell_type": "code",
   "execution_count": 36,
   "id": "4be79cc7-c32b-4ba0-8696-a8f709987790",
   "metadata": {},
   "outputs": [],
   "source": [
    "def get_genres(anime_name, df):\n",
    "    \"\"\"Retrieves the list of genres for a given anime name.\"\"\"\n",
    "    try:\n",
    "        genres_str = df[df['name'] == anime_name]['genre'].iloc[0]\n",
    "        return set(genres_str.split(', '))\n",
    "    except IndexError:\n",
    "        return set()\n",
    "\n",
    "def evaluate_recommendations(target_anime, recommended_list, df, k=10):\n",
    "    \"\"\"\n",
    "    A simplified evaluation function based on genre overlap.\n",
    "    \n",
    "    Parameters:\n",
    "    - target_anime (str): The name of the anime for which recommendations were made.\n",
    "    - recommended_list (pd.DataFrame): The DataFrame of recommended anime.\n",
    "    - df (pd.DataFrame): The original DataFrame.\n",
    "    - k (int): The number of recommendations considered (Top K).\n",
    "\n",
    "    Returns:\n",
    "    - dict: A dictionary with precision, recall, and F1-score.\n",
    "    \"\"\"\n",
    "    target_genres = get_genres(target_anime, df)\n",
    "    \n",
    "    if not target_genres:\n",
    "        return {'precision': 0, 'recall': 0, 'f1_score': 0}\n",
    "\n",
    "    hits = 0\n",
    "    for _, row in recommended_list.head(k).iterrows():\n",
    "        rec_genres = get_genres(row['name'], df)\n",
    "        if not rec_genres.isdisjoint(target_genres):\n",
    "            hits += 1\n",
    "\n",
    "    precision = hits / k\n",
    "    recall = hits / len(recommended_list.head(k))\n",
    "    \n",
    "    if (precision + recall) > 0:\n",
    "        f1 = 2 * (precision * recall) / (precision + recall)\n",
    "    else:\n",
    "        f1 = 0\n",
    "        \n",
    "    return {'precision': precision, 'recall': recall, 'f1_score': f1}"
   ]
  },
  {
   "cell_type": "code",
   "execution_count": 37,
   "id": "472b478b-5bda-45e0-a1be-7ed38a7cb0c7",
   "metadata": {},
   "outputs": [
    {
     "name": "stdout",
     "output_type": "stream",
     "text": [
      "\n",
      "Evaluation for 'Kimi no Na wa.':\n",
      "Precision@10: 1.00\n",
      "Recall@10: 1.00\n",
      "F1-Score: 1.00\n"
     ]
    }
   ],
   "source": [
    "target_anime_eval = 'Kimi no Na wa.'\n",
    "recommendations = get_recommendations(target_anime_eval)\n",
    "evaluation_results = evaluate_recommendations(target_anime_eval, recommendations, df)\n",
    "\n",
    "print(f\"\\nEvaluation for '{target_anime_eval}':\")\n",
    "print(f\"Precision@10: {evaluation_results['precision']:.2f}\")\n",
    "print(f\"Recall@10: {evaluation_results['recall']:.2f}\")\n",
    "print(f\"F1-Score: {evaluation_results['f1_score']:.2f}\")"
   ]
  },
  {
   "cell_type": "markdown",
   "id": "8fc64073-b8ae-4ea3-9404-8bf0a605ec7a",
   "metadata": {},
   "source": [
    "## Interview questions"
   ]
  },
  {
   "cell_type": "markdown",
   "id": "7de72fed-e16f-4e03-8838-c7d9d474581d",
   "metadata": {},
   "source": [
    "1.What is Collaborative Filtering?\n",
    "\n",
    "Collaborative filtering is a technique used by recommendation systems to make automatic predictions about a user's interests by collecting preferences or taste information from many other users. The fundamental idea behind it is that if a person A has the same opinion as a person B on a particular item, then A is more likely to have B's opinion on a different item than a randomly chosen person.\n",
    "\n",
    "\n",
    "The core principle is to find users or items that are similar to each other. It operates on the principle of \"similar people like similar things\" (user-based) or \"people who like this item also like that item\" (item-based).\n",
    "\n",
    "\n",
    "**User-Based vs. Item-Based Collaborative Filtering\n",
    "The primary difference between user-based and item-based collaborative filtering lies in how they find similarities to generate recommendations.\n",
    "\n",
    "2.User-Based Collaborative Filtering\n",
    "\n",
    "This approach, also known as user-to-user or neighborhood-based filtering, works by first identifying a group of users who are similar to the target user. Similarity is typically measured by looking at the items they have both liked, rated, or viewed. Once a group of \"neighbors\" is found, the system recommends items that these neighbors liked but the target user has not yet interacted with.\n",
    "\n",
    "*How it Works: Find a user A who is similar to the target user B. Recommend items that A liked and B has not yet seen.\n",
    "\n",
    "*Analogy: A music streaming service finds that you and a friend have rated 20 of the same songs identically. The service then recommends a new album that your friend rated highly, but you have not yet heard.\n",
    "\n",
    "\n",
    "**Item-Based Collaborative Filtering\n",
    "\n",
    "This approach, also known as item-to-item filtering, is more common and often more scalable. It works by identifying a group of items that are similar to the items the user has already liked or rated. The system then recommends those similar items. The similarity between two items is calculated by looking at the set of users who have rated both items.\n",
    "\n",
    "*How it Works: Find an item Y that is similar to an item X that the user liked. Recommend item Y to the user.\n",
    "\n",
    "*Analogy: An e-commerce site notices that customers who bought \"Item A\" also frequently bought \"Item B\" and \"Item C\". When a new customer buys \"Item A\", the site recommends \"Item B\" and \"Item C\", regardless of how similar the new customer is to others. This is a very efficient and common approach."
   ]
  },
  {
   "cell_type": "code",
   "execution_count": null,
   "id": "2900d22c-260a-4298-9701-6231530f8e52",
   "metadata": {},
   "outputs": [],
   "source": []
  }
 ],
 "metadata": {
  "kernelspec": {
   "display_name": "python (ai_env)",
   "language": "python",
   "name": "ai_env"
  },
  "language_info": {
   "codemirror_mode": {
    "name": "ipython",
    "version": 3
   },
   "file_extension": ".py",
   "mimetype": "text/x-python",
   "name": "python",
   "nbconvert_exporter": "python",
   "pygments_lexer": "ipython3",
   "version": "3.9.23"
  }
 },
 "nbformat": 4,
 "nbformat_minor": 5
}
